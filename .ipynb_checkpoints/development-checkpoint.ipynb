{
 "cells": [
  {
   "cell_type": "markdown",
   "metadata": {},
   "source": [
    "# 1. Finding Mitochondrial Proteome Gene lists\n",
    "\n",
    "Last check: 3/18/2019\n",
    "\n",
    "- 1,626 genes from [IMPI_Q2_2018](http://www.mrc-mbu.cam.ac.uk/impi)\n",
    "- 1,158 genes from [MITOCarta2.0 2015](https://www.broadinstitute.org/scientific-community/science/programs/metabolic-disease-program/publications/mitocarta/mitocarta-in-0)\n",
    "  - Among them, 1,155 genes were annotate by ENSGids.\n",
    "- 1,227 genes from [GO:0005739 Mitochondrion](http://amigo.geneontology.org/amigo/search/bioentity?q=*:*&fq=regulates_closure:%22GO:0005739%22&sfq=document_category:%22bioentity%22)\n",
    "  - Among them, 1,220 genes were annotated by ENSGids.\n",
    "- see the details in `db_IMPI_GO_MitoCarta/README.md` file"
   ]
  },
  {
   "cell_type": "code",
   "execution_count": 28,
   "metadata": {},
   "outputs": [
    {
     "name": "stdout",
     "output_type": "stream",
     "text": [
      "Job process: 0.3 sec\n",
      "\n",
      "Input length = 1597 >> biomart search: hg19\n"
     ]
    },
    {
     "name": "stderr",
     "output_type": "stream",
     "text": []
    },
    {
     "name": "stderr",
     "output_type": "stream",
     "text": []
    },
    {
     "name": "stdout",
     "output_type": "stream",
     "text": [
      "  >> Result: Ensembl table with rows= 1619, cols= 5\n",
      "  >> Filter: Ensembl table with rows= 1458, cols= 5\n",
      "Input length = 1597 >> biomart search: hg38\n"
     ]
    },
    {
     "name": "stderr",
     "output_type": "stream",
     "text": []
    },
    {
     "name": "stderr",
     "output_type": "stream",
     "text": []
    },
    {
     "name": "stdout",
     "output_type": "stream",
     "text": [
      "  >> Result: Ensembl table with rows= 1717, cols= 5\n",
      "  >> Filter: Ensembl table with rows= 1552, cols= 5\n",
      "Job process: 12.9 sec\n",
      "\n",
      "GO missing genes = 1597Job process: 12.9 sec\n",
      "\n",
      "      original  fitted residuals regionError\n",
      "A          318 312.590     5.410       0.004\n",
      "B           85  63.551    21.449       0.010\n",
      "C          385 380.998     4.002       0.003\n",
      "A&B        153 165.730   -12.730       0.005\n",
      "A&C        264 272.612    -8.612       0.003\n",
      "B&C         25  53.523   -28.523       0.013\n",
      "A&B&C      891 889.417     1.583       0.004\n",
      "\n",
      "diagError: 0.013 \n",
      "stress:    0.001 \n",
      "> Euler fit is done.\n",
      "Figure draw: fig/venn_IMPI_2018_MitoCarta2.0.svg\n",
      "Job process: 13 sec\n",
      "\n",
      "ENSEMBL annotation = 1565\n",
      "Ensg missing genes = 556\n",
      "\n",
      "File write: db/mito_proteome_2121.tsv\n",
      "\n",
      "File write: db/mito_proteome_2121.rds\n",
      "Job done: 2019-03-19 12:35:09 for 13 sec\n",
      "\n"
     ]
    }
   ],
   "source": [
    "suppressMessages(library(dplyr))\n",
    "source('src/pdtime.r'); t0=Sys.time()\n",
    "source('src/biomart_search.r')\n",
    "source('src/venn_analysis.r')\n",
    "\n",
    "db_dir = 'db/Mito_proteome'\n",
    "data_dir = 'data'\n",
    "args = c(\n",
    "    'IMPI_Q2_2018_0.tsv',\n",
    "    'Human.MitoCarta2.0_1158.tsv',\n",
    "    'GO_Homo_sapiense.txt'\n",
    ")\n",
    "\n",
    "impi  = paste0(db_dir,'/',args[1]) %>% read.delim\n",
    "carta = paste0(db_dir,'/',args[2]) %>% read.delim\n",
    "go    = paste0(db_dir,'/',args[3]) %>% read.delim\n",
    "paste0(pdtime(t0,2),'\\n\\n') %>% cat\n",
    "\n",
    "# GO gene product annotation with ENSEMBL biomaRt\n",
    "go_input = unique(go$Symbol)\n",
    "genes_go_hg19 = biomart_gene_search(go_input,'hg19')\n",
    "genes_go_hg38 = biomart_gene_search(go_input,'hg38')\n",
    "paste0(pdtime(t0,2),'\\n\\n') %>% cat\n",
    "\n",
    "# Comparison to Ensg IDs\n",
    "colnames(impi)[1] = 'Ensg'\n",
    "impi_ensg = impi$Ensg %>% unique\n",
    "impi_ensg = impi_ensg[!is.na(impi_ensg)]\n",
    "#impi_ensg %>% length %>% print\n",
    "\n",
    "colnames(carta)[2] = 'Ensg'\n",
    "carta_ensg = carta$Ensg %>% unique\n",
    "carta_ensg = carta_ensg[!is.na(carta_ensg)]\n",
    "#carta_ensg %>% length %>% print\n",
    "\n",
    "go_ensg = union(\n",
    "    genes_go_hg19$ensembl_gene_id,\n",
    "    genes_go_hg38$ensembl_gene_id\n",
    ") %>% unique\n",
    "go_ensg = go_ensg[!is.na(go_ensg)]\n",
    "#go_ensg %>% length %>% print\n",
    "\n",
    "go_name = union(\n",
    "    genes_go_hg19$external_gene_name,\n",
    "    genes_go_hg38$external_gene_name\n",
    ") %>% unique\n",
    "go_name = go_name[!is.na(go_name)]\n",
    "paste0(\n",
    "    'GO missing genes = ',\n",
    "    setdiff(go_input,go_name)%>%length,\n",
    "    '\\n'\n",
    ") %>% cat\n",
    "paste0(pdtime(t0,2),'\\n\\n') %>% cat\n",
    "\n",
    "# Draw euler plot\n",
    "venn_li = list(\n",
    "    IMPI_2018    = impi_ensg,\n",
    "    MitoCarta2.0 = carta_ensg,\n",
    "    GO_0005739   = go_ensg\n",
    ")\n",
    "venn = venn_analysis(grouplist=venn_li,table=F)\n",
    "paste0(pdtime(t0,2),'\\n\\n') %>% cat\n",
    "\n",
    "# Annotation for the Union Mitochondrial genes\n",
    "mito_uni = venn[[1]]\n",
    "colnames(mito_uni)[4] = 'ENSGid'\n",
    "input = unique(mito_uni$ENSGid)\n",
    "colnames(genes_go_hg38) = paste0('hg38_',colnames(genes_go_hg38))\n",
    "colnames(genes_go_hg38)[4] = 'ensembl_gene_id'\n",
    "colnames(mito_uni)[4] = 'ensembl_gene_id'\n",
    "mito_ensg = union(\n",
    "    genes_go_hg19$ensembl_gene_id,\n",
    "    genes_go_hg38$ensembl_gene_id\n",
    ") %>% unique\n",
    "paste0(\n",
    "    'ENSEMBL annotation = ',\n",
    "    length(mito_ensg),'\\n'\n",
    ") %>% cat\n",
    "paste0(\n",
    "    'Ensg missing genes = ',\n",
    "    setdiff(input,mito_ensg)%>%length,'\\n'\n",
    ") %>% cat\n",
    "mito_ensg_df = data.frame(ensembl_gene_id=input)\n",
    "mito_ann_hg19 = merge(\n",
    "    mito_uni,genes_go_hg19,\n",
    "    by='ensembl_gene_id',all.x=T)\n",
    "mito_ann_hg = merge(\n",
    "    mito_ann_hg19,genes_go_hg38,\n",
    "    by='ensembl_gene_id',all.x=T)\n",
    "mito_n = mito_ann_hg$ensembl_gene_id %>% unique %>% length\n",
    "f_name = paste0('db/mito_proteome_',mito_n,c('.tsv','.rds'))\n",
    "write.table(mito_ann_hg,f_name[1],row.names=F,quote=F,sep='\\t')\n",
    "paste0('\\nFile write: ',f_name[1],'\\n') %>% cat\n",
    "saveRDS(mito_ann_hg,f_name[2])\n",
    "paste0('File write: ',f_name[2],'\\n') %>% cat\n",
    "pdtime(t0,1) %>% cat"
   ]
  },
  {
   "cell_type": "markdown",
   "metadata": {},
   "source": [
    "# 2. Aging geneset (Dr. Zhidong Tu)\n",
    "\n",
    "- Ref: [Yang et al, 2015, Scientific Reports](https://www.ncbi.nlm.nih.gov/pubmed/26477495)"
   ]
  },
  {
   "cell_type": "markdown",
   "metadata": {},
   "source": [
    "## 2-1. Data summery & RDS file generation"
   ]
  },
  {
   "cell_type": "code",
   "execution_count": 63,
   "metadata": {},
   "outputs": [
    {
     "name": "stdout",
     "output_type": "stream",
     "text": [
      "Read files..\n",
      "Error in fread(path, skip = 1, header = F) : \n",
      "  skip=1 but the input only has 1 line\n",
      "Error in fread(path, skip = 1, header = F) : \n",
      "  skip=1 but the input only has 1 line\n",
      "Error in fread(path, skip = 1, header = F) : \n",
      "  skip=1 but the input only has 1 line\n",
      "Job process: 0.1 sec\n",
      "\n",
      "File write: data/aging_pmi_summary.tsv\n",
      "Plot write: fig/aging_pmi_summary.svg\n",
      "Gene_n = 9946, Tissue_n = 32\n",
      "\n",
      "File write: db/aging_tu_9946.rds\n",
      "File write: db/aging_tu_9946.tsv\n",
      "Job done: 2019-03-19 14:15:52 for 1.1 sec"
     ]
    },
    {
     "data": {
      "image/png": "[encoded data removed]",
      "text/plain": [
       "plot without title"
      ]
     },
     "metadata": {},
     "output_type": "display_data"
    }
   ],
   "source": [
    "suppressMessages(library(dplyr))\n",
    "suppressMessages(library(data.table))\n",
    "suppressMessages(library(plyr))\n",
    "suppressMessages(library(reshape))\n",
    "suppressMessages(library(ggplot2))\n",
    "source('src/pdtime.r'); t0=Sys.time()\n",
    "\n",
    "#db_dir = 'db/sig_age_genes_GTEx_v7' # original aging geneset\n",
    "db_dir = 'db/age-associated gene correct PMI[1946]' # TMI corrected aging geneset\n",
    "\n",
    "# Read files\n",
    "age_paths = list.files(db_dir)\n",
    "organs = gsub('sig_|_table_BT_50.txt','',age_paths)\n",
    "n = length(age_paths)\n",
    "cat('Read files..\\n')\n",
    "age_li = lapply(c(1:n),function(i) {\n",
    "    path = paste0(db_dir,'/',age_paths[i])\n",
    "    #paste0('  (',i,') ',age_paths[i]) %>% cat\n",
    "    df_ = try(as.data.frame(fread(path,skip=1,header=F)))\n",
    "    n = nrow(df_)\n",
    "    if('try-error' %in% class(df_)) {\n",
    "        df=NULL\n",
    "        n = 0\n",
    "    } else df = cbind(df_,rep(organs[i],n))\n",
    "    #paste0('\\t>> ',n,' lines.\\n') %>% cat\n",
    "    return(df)\n",
    "})\n",
    "age_df_ = rbindlist(age_li)\n",
    "colnames(age_df_) = c(\n",
    "    'Ensgid_var','GeneSymbol','Age.Coef','p.value','FDR','Organs')\n",
    "paste0(pdtime(t0,2),'\\n\\n') %>% cat\n",
    "\n",
    "# Data summery statistics\n",
    "source('src/data_summary.r')\n",
    "data_summary(age_df_,'aging_pmi_summary')\n",
    "\n",
    "# Save data as table and RDS file\n",
    "splits = unlist(strsplit(age_df_$Ensgid_var,'.',fixed=T))\n",
    "Ensgid = unlist(splits)[2*(1:nrow(age_df_))-1]\n",
    "Ensgid_n = Ensgid %>% unique %>% length\n",
    "age_df = cbind(age_df_,Ensgid)\n",
    "paste0(\n",
    "    'Gene_n = ',length(unique(Ensgid)),\n",
    "    ', Tissue_n = ',age_df$Organs%>%unique%>%length,\n",
    "    '\\n'\n",
    ") %>% cat\n",
    "\n",
    "f_name3 = paste0('db/aging_tu_',Ensgid_n,c('.rds','.tsv'))\n",
    "saveRDS(age_df,f_name3[1])\n",
    "paste0('\\nFile write: ',f_name3[1],'\\n') %>% cat\n",
    "write.table(age_df,f_name3[2],sep='\\t',row.names=F,quote=F)\n",
    "paste0('File write: ',f_name3[2],'\\n') %>% cat\n",
    "pdtime(t0,1) %>% cat"
   ]
  },
  {
   "cell_type": "markdown",
   "metadata": {},
   "source": [
    "## 2-2. Overlap between aging & mito genes"
   ]
  },
  {
   "cell_type": "code",
   "execution_count": 68,
   "metadata": {},
   "outputs": [
    {
     "name": "stdout",
     "output_type": "stream",
     "text": [
      "Mito-Aging gene_n = 1165\n",
      "\n",
      "File write: data/mito_aging_pmi_summary.tsv\n",
      "Plot write: fig/mito_aging_pmi_summary.svg\n",
      "File write: data/mito_aging_pmi_1165.tsv\n",
      "\n",
      "Job done: 2019-03-19 14:35:00 for 0.7 sec"
     ]
    },
    {
     "data": {
      "image/png": "[encoded data removed]",
      "text/plain": [
       "plot without title"
      ]
     },
     "metadata": {},
     "output_type": "display_data"
    }
   ],
   "source": [
    "suppressMessages(library(dplyr))\n",
    "suppressMessages(library(plyr))\n",
    "suppressMessages(library(reshape))\n",
    "suppressMessages(library(ggplot2))\n",
    "source('src/pdtime.r'); t0=Sys.time()\n",
    "\n",
    "db_dir = 'db/'\n",
    "data_dir = 'data'\n",
    "f_name = 'mito_aging_pmi'\n",
    "#f_name = 'mito_aging_ori'\n",
    "args = c(\n",
    "    'mito_proteome_2121.rds',\n",
    "    'aging_pmi_9946.rds'\n",
    "    #'aging_tu_18174.rds'\n",
    ")\n",
    "\n",
    "# Read files\n",
    "mito  = readRDS(paste0(db_dir,args[1]))\n",
    "aging = readRDS(paste0(db_dir,args[2]))\n",
    "\n",
    "# Overlap data\n",
    "colnames(mito)[1] = 'Ensgid'\n",
    "mito_age_ids = intersect(mito$Ensgid,aging$Ensgid) %>% unique\n",
    "cat(paste0('Mito-Aging gene_n = ',mito_age_ids %>% length,'\\n\\n'))\n",
    "mito_age = merge(mito,aging,by='Ensgid')\n",
    "\n",
    "# Data summery statistics\n",
    "source('src/data_summary.r')\n",
    "f_name1 = paste0(f_name,'_summary')\n",
    "data_summary(mito_age,f_name1)\n",
    "\n",
    "# Write file\n",
    "f_name2 = paste0('data/',f_name,'_',length(unique(mito_age$Ensgid)),'.tsv')\n",
    "write.table(mito_age,f_name2,row.names=F,quote=F,sep='\\t')\n",
    "cat(paste0('File write: ',f_name2,'\\n\\n'))\n",
    "pdtime(t0,1) %>% cat"
   ]
  },
  {
   "cell_type": "markdown",
   "metadata": {},
   "source": [
    "## 2-3. Heatmap for shared genes in multiple organs"
   ]
  },
  {
   "cell_type": "code",
   "execution_count": 76,
   "metadata": {},
   "outputs": [
    {
     "name": "stdout",
     "output_type": "stream",
     "text": [
      "[1] \"Ensgid\"     \"Ensgid_var\" \"GeneSymbol\" \"Age.Coef\"   \"p.value\"   \n",
      "[6] \"FDR\"        \"Organs\"     \"Organ_n\"   \n"
     ]
    }
   ],
   "source": [
    "organ_ann %>% colnames %>% print"
   ]
  },
  {
   "cell_type": "code",
   "execution_count": 136,
   "metadata": {},
   "outputs": [
    {
     "name": "stdout",
     "output_type": "stream",
     "text": [
      "gene_n = 1165\n",
      "Organs_n = 27\n",
      "File write: data/shared_genes_heatmap.tsv\n",
      "Plot write: fig/shared_genes_4_over.svg\n",
      "Job done: 2019-03-20 10:12:35 for 0.8 sec"
     ]
    }
   ],
   "source": [
    "suppressMessages(library(dplyr))\n",
    "suppressMessages(library(tidyr))\n",
    "suppressMessages(library(ComplexHeatmap))\n",
    "source('src/pdtime.r'); t0=Sys.time()\n",
    "\n",
    "data_dir = 'data'\n",
    "f_name = 'shared_genes'\n",
    "args = c(\n",
    "    'mito_aging_pmi_1165.tsv'\n",
    ")\n",
    "\n",
    "# Read files\n",
    "mito_age  = read.delim(paste0('data/',args[1]))\n",
    "organ_n_df = data.frame(table(mito_age$Ensgid_var))\n",
    "colnames(organ_n_df) = c('Ensgid_var','Organ_n')\n",
    "\n",
    "# Select columns: Ensgid, Ensgid_var, GeneSymbol, Age.Coef, p.vlaue, FDR, Organs\n",
    "organ_ann = mito_age[,c(1,13:18)] %>% \n",
    "    left_join(organ_n_df,by='Ensgid_var')\n",
    "cat(paste0('gene_n = ',length(unique(organ_ann$Ensgid_var)),'\\n'))\n",
    "\n",
    "# Draw heatmap using Age.Coef values\n",
    "source('src/heatmap_aging.r')\n",
    "heatmap_aging(\n",
    "    organ_ann,f_name,\n",
    "    filter_n=4,over=T,\n",
    "    width=7,height=10\n",
    ")\n",
    "pdtime(t0,1) %>% cat"
   ]
  },
  {
   "cell_type": "code",
   "execution_count": 161,
   "metadata": {},
   "outputs": [
    {
     "name": "stdout",
     "output_type": "stream",
     "text": [
      "Organs_n = 27\n",
      "File write: data/shared_genes_heatmap.tsv\n",
      "Plot write: fig/shared_genes_3.svg\n",
      "[1] \"2019-03-20 10:51:16 EDT\"\n"
     ]
    }
   ],
   "source": [
    "source('src/heatmap_aging.r')\n",
    "# Shared genes in three tissues\n",
    "heatmap_aging(\n",
    "    organ_ann,f_name,\n",
    "    filter_n=3,over=F,\n",
    "    width=6,height=20\n",
    ")\n",
    "Sys.time() %>% print"
   ]
  },
  {
   "cell_type": "code",
   "execution_count": 140,
   "metadata": {},
   "outputs": [
    {
     "name": "stdout",
     "output_type": "stream",
     "text": [
      "Organs_n = 27\n",
      "File write: data/shared_genes_heatmap.tsv\n",
      "Plot write: fig/shared_genes_2.svg\n",
      "[1] \"2019-03-20 10:13:42 EDT\"\n"
     ]
    }
   ],
   "source": [
    "source('src/heatmap_aging.r')\n",
    "# Shared genes in two tissues\n",
    "heatmap_aging(\n",
    "    organ_ann,f_name,\n",
    "    filter_n=2,over=F,\n",
    "    width=6,height=45\n",
    ")\n",
    "Sys.time() %>% print"
   ]
  },
  {
   "cell_type": "code",
   "execution_count": 160,
   "metadata": {},
   "outputs": [
    {
     "name": "stdout",
     "output_type": "stream",
     "text": [
      "Organs_n = 27\n",
      "File write: data/shared_genes_heatmap.tsv\n",
      "Plot write: fig/shared_genes_1.svg\n",
      "[1] \"2019-03-20 10:51:15 EDT\"\n"
     ]
    }
   ],
   "source": [
    "source('src/heatmap_aging.r')\n",
    "# Tissue-specific genes\n",
    "heatmap_aging(\n",
    "    organ_ann,f_name,\n",
    "    filter_n=1,over=F,\n",
    "    width=6,height=90\n",
    ")\n",
    "Sys.time() %>% print"
   ]
  },
  {
   "cell_type": "markdown",
   "metadata": {},
   "source": [
    "# 3. GTEx data analysis\n",
    "\n",
    "Criteria for GTEx data:\n",
    "* GWAS p-value `<1e-05` & GTEx Nominal P-value `<1e-04`:\n",
    "  * 775 Genes-4,864 SNPs-1,133 Traits"
   ]
  },
  {
   "cell_type": "markdown",
   "metadata": {},
   "source": [
    "<img src=\"Criteria for GTEx data.png\" />"
   ]
  },
  {
   "cell_type": "markdown",
   "metadata": {},
   "source": [
    "<img src=\"Criteria for this study.png\" />"
   ]
  },
  {
   "cell_type": "code",
   "execution_count": 2,
   "metadata": {},
   "outputs": [],
   "source": [
    "suppressMessages(library(dplyr))"
   ]
  },
  {
   "cell_type": "code",
   "execution_count": 11,
   "metadata": {},
   "outputs": [
    {
     "name": "stdout",
     "output_type": "stream",
     "text": [
      "Input length = 4864 >> biomart search: hg19\n"
     ]
    },
    {
     "name": "stderr",
     "output_type": "stream",
     "text": [
      "                                                                      \r"
     ]
    },
    {
     "name": "stdout",
     "output_type": "stream",
     "text": [
      "  >> Result: Ensembl table with rows= 8426, cols= 5\n",
      "  >> Filter: Ensembl table with rows= 5519, cols= 5\n",
      "Job done: 2019-10-28 18:48:06 for 52.6 sec"
     ]
    }
   ],
   "source": [
    "# Load merged data (GWAS P-value <1e-05)\n",
    "source('src/pdtime.r'); t0=Sys.time()\n",
    "gwas_report_df = readRDS('data/mito_aging_eqtl_gwas_4896.rds') # GTEx Nominal P-value <1e-04 is not applied yet.\n",
    "\n",
    "# Filter data & Extract Rsid\n",
    "gwas_report_sub = subset(gwas_report_df,P.VALUE<0.00001)\n",
    "gwas_report_sub2= subset(gwas_report_sub, pval_nominal<0.0001)\n",
    "gwas_Rsid_df = gwas_report_sub2[,c(1,13:14)] %>% unique\n",
    "gwas_Rsid  = gwas_Rsid_df$Rsid %>% as.character\n",
    "\n",
    "# Annotate Rsids\n",
    "source('src/biomart_search.r')\n",
    "gwas_snp = biomart_rsid_search(gwas_Rsid)\n",
    "colnames(gwas_snp)[1] = 'Rsid'\n",
    "gwas_Rsid_df2 = merge(gwas_Rsid_df,gwas_snp,by='Rsid',all.x=T)\n",
    "gwas_Rsid_df2_n = gwas_Rsid_df2$Rsid %>% unique %>% length\n",
    "f_name = paste0('data/gwas_Rsid_',gwas_Rsid_df2_n,'.tsv')\n",
    "write.table(gwas_Rsid_df2,f_name,sep='\\t',row.names=F)\n",
    "\n",
    "pdtime(t0,1) %>% cat"
   ]
  },
  {
   "cell_type": "code",
   "execution_count": 12,
   "metadata": {},
   "outputs": [
    {
     "name": "stdout",
     "output_type": "stream",
     "text": [
      "[1] 5524    7\n",
      "[1] 4864    3\n",
      "[1] 4864\n",
      "Job done: 2019-10-28 18:48:16 for 0.1 sec"
     ]
    }
   ],
   "source": [
    "# Prepare seedSNP BED file\n",
    "source('src/pdtime.r'); t0=Sys.time()\n",
    "gwas_Rsid_df2 = read.delim('data/gwas_Rsid_4864.tsv'); gwas_Rsid_df2%>%dim%>%print\n",
    "gwas_rsid_bed_= gwas_Rsid_df2[,c(1:3)] %>% unique; gwas_rsid_bed_%>%dim%>%print\n",
    "\n",
    "gwas_rsid_ids = paste0('chr',gwas_rsid_bed_[,2])\n",
    "gwas_rsid_bed = data.frame(gwas_rsid_ids,gwas_rsid_bed_[,3]-1,gwas_rsid_bed_[,3],gwas_rsid_bed_[,1])\n",
    "colnames(gwas_rsid_bed) = c('Chr','Start','End','Rsid')\n",
    "\n",
    "gwas_rsid_bed_n = nrow(gwas_rsid_bed); gwas_rsid_bed_n%>%print\n",
    "f_name = paste0('data/gwas_rsid_',gwas_rsid_bed_n,'.bed')\n",
    "write.table(gwas_rsid_bed,f_name,sep='\\t',quote=F,row.names=F,col.names=F)\n",
    "pdtime(t0,1) %>% cat"
   ]
  },
  {
   "cell_type": "markdown",
   "metadata": {},
   "source": [
    "### AWS install bedtools\n",
    "\n",
    "* Install bedtools\n",
    "  * `cd /usr/local/bin`\n",
    "  * `wget https://github.com/arq5x/bedtools2/releases/download/v2.27.1/bedtools-2.27.1.tar.gz`\n",
    "  * `tar -zxvf bedtools-2.27.1.tar.gz`\n",
    "  * `cd bedtools2`\n",
    "  * `make`\n",
    "* Create symlink\n",
    "  * `ln -s /usr/local/bin/bedtools2/bin/bedtools /usr/local/bin/bedtools`\n",
    "* Test installation\n",
    "  * `/usr/local/bin/bedtools`"
   ]
  },
  {
   "cell_type": "markdown",
   "metadata": {},
   "source": [
    "### 1) RoadMAP DB: bedtools\n",
    "\n",
    "IN BASH COMMAND:\n",
    "\n",
    "- `$ bedtools sort -i data/gwas_rsid_4864.bed > data/gwas_rsid_4864_sort.bed`\n",
    "- `$ bedtools closest -d -a data/gwas_rsid_4864_sort.bed -b db/roadmap_enh_merge.bed > data/roadmap_dist.tsv`\n",
    "- `$ Rscript src/bedtools_closest_roadmap.r data/roadmap_dist.tsv`"
   ]
  },
  {
   "cell_type": "markdown",
   "metadata": {},
   "source": [
    "### 2) ENCODE ChIP-seq\n",
    "\n",
    "IN BASH COMMAND:\n",
    "- `$ bedtools closest -d -a data/gwas_rsid_4864_sort.bed -b db/encode_tfbs_merge.bed > data/encode_dist.tsv`\n",
    "- `$ Rscript src/bedtools_closest_roadmap.r data/encode_dist.tsv`"
   ]
  },
  {
   "cell_type": "markdown",
   "metadata": {},
   "source": [
    "### 3) RegulomeDB\n",
    "\n",
    "IN BASH COMMAND:\n",
    "- `$ Rscript src/regulome.r data/gwas_rsid_4864_sort.bed db/RegulomeDB.dbSNP132.Category1.txt.rds db/RegulomeDB.dbSNP132.Category2.txt.rds`"
   ]
  },
  {
   "cell_type": "markdown",
   "metadata": {},
   "source": [
    "### 4) lncRNASNP2\n",
    "\n",
    "IN BASH COMMAND:\n",
    "- `$ Rscript src/lncrnasnp.r data/gwas_rsid_4864_sort.bed db/lncRNASNP2_snplist.txt.rds db/lncrnas.txt.rds db/lncrna-diseases_experiment.txt.rds`"
   ]
  },
  {
   "cell_type": "code",
   "execution_count": null,
   "metadata": {},
   "outputs": [],
   "source": []
  }
 ],
 "metadata": {
  "kernelspec": {
   "display_name": "R",
   "language": "R",
   "name": "ir"
  },
  "language_info": {
   "codemirror_mode": "r",
   "file_extension": ".r",
   "mimetype": "text/x-r-source",
   "name": "R",
   "pygments_lexer": "r",
   "version": "3.6.1"
  }
 },
 "nbformat": 4,
 "nbformat_minor": 4
}
